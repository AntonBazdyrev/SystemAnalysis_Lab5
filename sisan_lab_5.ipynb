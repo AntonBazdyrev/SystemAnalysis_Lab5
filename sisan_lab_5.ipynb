{
 "cells": [
  {
   "cell_type": "code",
   "execution_count": 1,
   "metadata": {},
   "outputs": [],
   "source": [
    "import pandas as pd\n",
    "import numpy as np\n",
    "\n",
    "X = pd.read_csv('SunX.txt', header=None)\n",
    "Y = pd.read_csv('SunY.txt', header=None)"
   ]
  },
  {
   "cell_type": "code",
   "execution_count": 2,
   "metadata": {},
   "outputs": [],
   "source": [
    "from tqdm import tqdm\n",
    "from sklearn.preprocessing import MinMaxScaler"
   ]
  },
  {
   "cell_type": "code",
   "execution_count": 3,
   "metadata": {},
   "outputs": [],
   "source": [
    "def chebyshev(n, x):\n",
    "    if n == 0:\n",
    "        return 1\n",
    "    elif n == 1:\n",
    "        return x\n",
    "    else:\n",
    "        return 2 * x * chebyshev(n - 1, x) - chebyshev(n - 1, x)\n",
    "\n",
    "\n",
    "def set_poly(orders, numbers, x):\n",
    "    applier = chebyshev\n",
    "    \n",
    "    polynomial = []\n",
    "    \n",
    "    for k in range(x.shape[0]):\n",
    "        \n",
    "        polynomial.append([])\n",
    "        \n",
    "        for j in range(0, numbers[0]):\n",
    "            \n",
    "            if j == 0:\n",
    "                polynomial[k].append(applier(0, 2 * x[k][j] - 1))\n",
    "                \n",
    "            for i in range((orders[0])):\n",
    "                polynomial[k].append(applier(i + 1, 2 * x[k][j] - 1))\n",
    "                \n",
    "        for j in range(numbers[0], numbers[1] + numbers[0]):\n",
    "            \n",
    "            for i in range((orders[1])):\n",
    "                \n",
    "                polynomial[k].append(applier(i + 1, 2 * x[k][j] - 1))\n",
    "\n",
    "        for j in range(numbers[1] + numbers[0], numbers[1] + numbers[0] + numbers[2]):\n",
    "            \n",
    "            for i in range((orders[2])):\n",
    "                \n",
    "                polynomial[k].append(applier(i + 1, 2 * x[k][j] - 1))\n",
    "                \n",
    "    polynomial = np.array(polynomial)\n",
    "    return polynomial\n",
    "                    \n",
    "    \n",
    "\n",
    "from sklearn import linear_model\n",
    "\n",
    "\n",
    "def fit_poly(polynomial, y):\n",
    "    return np.linalg.lstsq(polynomial, y, rcond=1)[0]\n",
    "\n",
    "\n",
    "def fit(polynomial, y):\n",
    "    return np.linalg.lstsq(polynomial, y, rcond=1)[0]\n",
    "\n",
    "\n",
    "def predict(coefc, x):\n",
    "    return x @ np.array(coefc).T"
   ]
  },
  {
   "cell_type": "code",
   "execution_count": 4,
   "metadata": {},
   "outputs": [],
   "source": [
    "def fit_poly(polynomial, y):\n",
    "    return np.linalg.lstsq(polynomial, y, rcond=1)[0]"
   ]
  },
  {
   "cell_type": "code",
   "execution_count": 5,
   "metadata": {},
   "outputs": [],
   "source": [
    "scaler = MinMaxScaler()\n",
    "Y = scaler.fit_transform(Y)\n",
    "X = scaler.fit_transform( X )"
   ]
  },
  {
   "cell_type": "code",
   "execution_count": 6,
   "metadata": {},
   "outputs": [],
   "source": [
    "degree = np.array([1, 1, 1])\n",
    "dim = np.array([2, 2, 2])\n",
    "X_poly = set_poly( degree, dim, (X))\n",
    "\n",
    "lamb = fit_poly( X_poly, Y[:,1] )\n",
    "Resul = X_poly @ np.array( lamb ).T"
   ]
  },
  {
   "cell_type": "code",
   "execution_count": 7,
   "metadata": {},
   "outputs": [],
   "source": [
    "from sklearn.metrics import mean_squared_error"
   ]
  },
  {
   "cell_type": "code",
   "execution_count": 8,
   "metadata": {},
   "outputs": [
    {
     "data": {
      "text/plain": [
       "0.0068327181486612515"
      ]
     },
     "execution_count": 8,
     "metadata": {},
     "output_type": "execute_result"
    }
   ],
   "source": [
    "mean_squared_error( Resul, Y[:,0])"
   ]
  },
  {
   "cell_type": "code",
   "execution_count": 9,
   "metadata": {},
   "outputs": [
    {
     "data": {
      "text/plain": [
       "array([ 0.45256617, -0.09510883,  0.06886734,  0.32123047,  0.07427279,\n",
       "        0.45907084, -0.1436764 ])"
      ]
     },
     "execution_count": 9,
     "metadata": {},
     "output_type": "execute_result"
    }
   ],
   "source": [
    "lamb"
   ]
  },
  {
   "cell_type": "code",
   "execution_count": 10,
   "metadata": {},
   "outputs": [],
   "source": [
    "boards_x11 = [0, 1]\n",
    "boards_x12 = [0, 1]\n",
    "boards_x21 = [0, 1]\n",
    "boards_x22 = [0, 1]\n",
    "boards_x31 = [0, 1]\n",
    "boards_x32 = [0, 1]"
   ]
  },
  {
   "cell_type": "code",
   "execution_count": 11,
   "metadata": {},
   "outputs": [],
   "source": [
    "f_max = lambda x: lamb @ x\n",
    "f_min = lambda x: - lamb @ x"
   ]
  },
  {
   "cell_type": "code",
   "execution_count": 12,
   "metadata": {},
   "outputs": [],
   "source": [
    "def careful_on_road(boards, x):\n",
    "    \n",
    "    if x > boards[1] :\n",
    "        x = 2*boards[1] - x\n",
    "    if x[0] < boards[0] :\n",
    "        x = 2*boards[0] - x\n",
    "    return x "
   ]
  },
  {
   "cell_type": "code",
   "execution_count": 28,
   "metadata": {},
   "outputs": [],
   "source": [
    "def ES(func):\n",
    "    \n",
    "    n_best = 5\n",
    "    \n",
    "    generation = [ np.random.uniform(low = 0, high=1, size = 7) for i in range (10) ]\n",
    "    \n",
    "    best_of_generation = sorted(generation, key = func)[: n_best]\n",
    "    \n",
    "    for i in tqdm( range(1) ):\n",
    "    \n",
    "        Mean = (np.array(best_of_generation).mean(axis=0))\n",
    "        \n",
    "        for index, chromosoma in tqdm(best_of_generation):\n",
    "            \n",
    "            for j in range(5):\n",
    "                \n",
    "                P = np.random.uniform(low = -1, high=1)\n",
    "                best_of_generation.append(chromosoma + Mean*P)\n",
    "                \n",
    "        best_of_generation = pd.DataFrame( np.array(best_of_generation), header= None)\n",
    "        best_of_generation = np.array(best_of_generation.drop_duplicates())\n",
    "        best_of_generation = sorted(best_of_generation, key = func)[: n_best]\n",
    "        \n",
    "    return best_of_generation"
   ]
  },
  {
   "cell_type": "code",
   "execution_count": 27,
   "metadata": {},
   "outputs": [
    {
     "name": "stderr",
     "output_type": "stream",
     "text": [
      "\n",
      "\n",
      "  0%|          | 0/3 [00:00<?, ?it/s]\u001b[A\u001b[A\n",
      "\n",
      "\n",
      "0it [00:00, ?it/s]\u001b[A\u001b[A\u001b[A\n",
      "\n",
      "\n",
      "2839it [00:00, 28386.30it/s]\u001b[A\u001b[A\u001b[A\n",
      "\n",
      "\n",
      "6671it [00:00, 30778.47it/s]\u001b[A\u001b[A\u001b[A\n",
      "\n",
      "\n",
      "10251it [00:00, 32128.88it/s]\u001b[A\u001b[A\u001b[A\n",
      "\n",
      "\n",
      "14083it [00:00, 33764.04it/s]\u001b[A\u001b[A\u001b[A\n",
      "\n",
      "\n",
      "17989it [00:00, 35193.84it/s]\u001b[A\u001b[A\u001b[A\n",
      "\n",
      "\n",
      "21931it [00:00, 36362.55it/s]\u001b[A\u001b[A\u001b[A\n",
      "\n",
      "\n",
      "25361it [00:00, 35717.89it/s]\u001b[A\u001b[A\u001b[A\n",
      "\n",
      "\n",
      "28815it [00:00, 35354.76it/s]\u001b[A\u001b[A\u001b[A\n",
      "\n",
      "\n",
      "32524it [00:00, 35857.83it/s]\u001b[A\u001b[A\u001b[A\n",
      "\n",
      "\n",
      "36433it [00:01, 36768.78it/s]\u001b[A\u001b[A\u001b[A\n",
      "\n",
      "\n",
      "40228it [00:01, 37114.81it/s]\u001b[A\u001b[A\u001b[A\n",
      "\n",
      "\n",
      "43899it [00:01, 36744.29it/s]\u001b[A\u001b[A\u001b[A\n",
      "\n",
      "\n",
      "47546it [00:01, 36379.97it/s]\u001b[A\u001b[A\u001b[A\n",
      "\n",
      "\n",
      "51166it [00:01, 35638.21it/s]\u001b[A\u001b[A\u001b[A\n",
      "\n",
      "\n",
      "54955it [00:01, 36284.70it/s]\u001b[A\u001b[A\u001b[A\n",
      "\n",
      "\n",
      "58824it [00:01, 36973.01it/s]\u001b[A\u001b[A\u001b[A\n",
      "\n",
      "\n",
      "62522it [00:01, 36955.27it/s]\u001b[A\u001b[A\u001b[A\n",
      "\n",
      "\n",
      "66218it [00:01, 36861.48it/s]\u001b[A\u001b[A\u001b[A\n",
      "\n",
      "\n",
      "69905it [00:01, 36609.38it/s]\u001b[A\u001b[A\u001b[A\n",
      "\n",
      "\n",
      "73567it [00:02, 36456.42it/s]\u001b[A\u001b[A\u001b[A\n",
      "\n",
      "\n",
      "77239it [00:02, 36534.01it/s]\u001b[A\u001b[A\u001b[A\n",
      "\n",
      "\n",
      "80893it [00:02, 35649.86it/s]\u001b[A\u001b[A\u001b[A\n",
      "\n",
      "\n",
      "84464it [00:02, 34748.29it/s]\u001b[A\u001b[A\u001b[A\n",
      "\n",
      "\n",
      "88415it [00:02, 36051.19it/s]\u001b[A\u001b[A\u001b[A\n",
      "\n",
      "\n",
      "92293it [00:02, 36828.52it/s]\u001b[A\u001b[A\u001b[A\n",
      "\n",
      "\n",
      "95993it [00:02, 35162.57it/s]\u001b[A\u001b[A\u001b[A\n",
      "\n",
      "\n",
      "99538it [00:02, 35083.89it/s]\u001b[A\u001b[A\u001b[A\n",
      "\n",
      "\n",
      "103159it [00:02, 35413.37it/s]\u001b[A\u001b[A\u001b[A\n",
      "\n",
      "\n",
      "106715it [00:02, 34997.68it/s]\u001b[A\u001b[A\u001b[A\n",
      "\n",
      "\n",
      "110442it [00:03, 35649.33it/s]\u001b[A\u001b[A\u001b[A\n",
      "\n",
      "\n",
      "114350it [00:03, 36610.28it/s]\u001b[A\u001b[A\u001b[A\n",
      "\n",
      "\n",
      "118030it [00:03, 36665.67it/s]\u001b[A\u001b[A\u001b[A\n",
      "\n",
      "\n",
      "121812it [00:03, 37002.90it/s]\u001b[A\u001b[A\u001b[A\n",
      "\n",
      "\n",
      "125520it [00:03, 36861.88it/s]\u001b[A\u001b[A\u001b[A\n",
      "\n",
      "\n",
      "129212it [00:03, 36867.93it/s]\u001b[A\u001b[A\u001b[A\n",
      "\n",
      "\n",
      "133087it [00:03, 37412.18it/s]\u001b[A\u001b[A\u001b[A\n",
      "\n",
      "\n",
      "136833it [00:03, 36749.96it/s]\u001b[A\u001b[A\u001b[A\n",
      "\n",
      "\n",
      "140514it [00:03, 35395.78it/s]\u001b[A\u001b[A\u001b[A\n",
      "\n",
      "\n",
      "144069it [00:04, 31620.48it/s]\u001b[A\u001b[A\u001b[A\n",
      "\n",
      "\n",
      "147967it [00:04, 33518.58it/s]\u001b[A\u001b[A\u001b[A\n",
      "\n",
      "\n",
      "151888it [00:04, 35042.64it/s]\u001b[A\u001b[A\u001b[A\n",
      "\n",
      "\n",
      "155522it [00:04, 35421.60it/s]\u001b[A\u001b[A\u001b[A\n",
      "\n",
      "\n",
      "159264it [00:04, 35997.93it/s]\u001b[A\u001b[A\u001b[A\n",
      "\n",
      "\n",
      "163097it [00:04, 36666.76it/s]\u001b[A\u001b[A\u001b[A\n",
      "\n",
      "\n",
      "166858it [00:04, 36942.90it/s]\u001b[A\u001b[A\u001b[A\n",
      "\n",
      "\n",
      "170576it [00:04, 36038.43it/s]\u001b[A\u001b[A\u001b[A\n",
      "\n",
      "\n",
      "174202it [00:04, 35900.44it/s]\u001b[A\u001b[A\u001b[A\n",
      "\n",
      "\n",
      "178180it [00:04, 36981.31it/s]\u001b[A\u001b[A\u001b[A\n",
      "\n",
      "\n",
      "181897it [00:05, 35878.87it/s]\u001b[A\u001b[A\u001b[A\n",
      "\n",
      "\n",
      "185646it [00:05, 36345.80it/s]\u001b[A\u001b[A\u001b[A\n",
      "\n",
      "\n",
      "189347it [00:05, 36540.18it/s]\u001b[A\u001b[A\u001b[A\n",
      "\n",
      "\n",
      "193122it [00:05, 36894.45it/s]\u001b[A\u001b[A\u001b[A\n",
      "\n",
      "\n",
      "196821it [00:05, 35795.12it/s]\u001b[A\u001b[A\u001b[A\n",
      "\n",
      "\n",
      "200664it [00:05, 36545.69it/s]\u001b[A\u001b[A\u001b[A\n",
      "\n",
      "\n",
      "204418it [00:05, 36836.53it/s]\u001b[A\u001b[A\u001b[A\n",
      "\n",
      "\n",
      "208112it [00:05, 36208.59it/s]\u001b[A\u001b[A\u001b[A\n",
      "\n",
      "\n",
      "211866it [00:05, 36597.57it/s]\u001b[A\u001b[A\u001b[A\n",
      "\n",
      "\n",
      "215810it [00:05, 37403.87it/s]\u001b[A\u001b[A\u001b[A\n",
      "\n",
      "\n",
      "219560it [00:06, 37332.03it/s]\u001b[A\u001b[A\u001b[A"
     ]
    },
    {
     "ename": "KeyboardInterrupt",
     "evalue": "",
     "output_type": "error",
     "traceback": [
      "\u001b[0;31m---------------------------------------------------------------------------\u001b[0m",
      "\u001b[0;31mKeyboardInterrupt\u001b[0m                         Traceback (most recent call last)",
      "\u001b[0;32m<ipython-input-27-167b06cca15f>\u001b[0m in \u001b[0;36m<module>\u001b[0;34m\u001b[0m\n\u001b[0;32m----> 1\u001b[0;31m \u001b[0mES\u001b[0m\u001b[0;34m(\u001b[0m\u001b[0mf_max\u001b[0m\u001b[0;34m)\u001b[0m\u001b[0;34m\u001b[0m\u001b[0;34m\u001b[0m\u001b[0m\n\u001b[0m",
      "\u001b[0;32m<ipython-input-25-92a563a369ae>\u001b[0m in \u001b[0;36mES\u001b[0;34m(func)\u001b[0m\n\u001b[1;32m     20\u001b[0m \u001b[0;34m\u001b[0m\u001b[0m\n\u001b[1;32m     21\u001b[0m                 \u001b[0mP\u001b[0m \u001b[0;34m=\u001b[0m \u001b[0mnp\u001b[0m\u001b[0;34m.\u001b[0m\u001b[0mrandom\u001b[0m\u001b[0;34m.\u001b[0m\u001b[0muniform\u001b[0m\u001b[0;34m(\u001b[0m\u001b[0mlow\u001b[0m \u001b[0;34m=\u001b[0m \u001b[0;34m-\u001b[0m\u001b[0;36m1\u001b[0m\u001b[0;34m,\u001b[0m \u001b[0mhigh\u001b[0m\u001b[0;34m=\u001b[0m\u001b[0;36m1\u001b[0m\u001b[0;34m)\u001b[0m\u001b[0;34m\u001b[0m\u001b[0;34m\u001b[0m\u001b[0m\n\u001b[0;32m---> 22\u001b[0;31m                 \u001b[0mbest_of_generation\u001b[0m\u001b[0;34m.\u001b[0m\u001b[0mappend\u001b[0m\u001b[0;34m(\u001b[0m\u001b[0mchromosoma\u001b[0m \u001b[0;34m+\u001b[0m \u001b[0mMean\u001b[0m\u001b[0;34m*\u001b[0m\u001b[0mP\u001b[0m\u001b[0;34m)\u001b[0m\u001b[0;34m\u001b[0m\u001b[0;34m\u001b[0m\u001b[0m\n\u001b[0m\u001b[1;32m     23\u001b[0m \u001b[0;34m\u001b[0m\u001b[0m\n\u001b[1;32m     24\u001b[0m         \u001b[0mbest_of_generation\u001b[0m \u001b[0;34m=\u001b[0m \u001b[0mpd\u001b[0m\u001b[0;34m.\u001b[0m\u001b[0mDataFrame\u001b[0m\u001b[0;34m(\u001b[0m \u001b[0mnp\u001b[0m\u001b[0;34m.\u001b[0m\u001b[0marray\u001b[0m\u001b[0;34m(\u001b[0m\u001b[0mbest_of_generation\u001b[0m\u001b[0;34m)\u001b[0m\u001b[0;34m,\u001b[0m \u001b[0mheader\u001b[0m\u001b[0;34m=\u001b[0m \u001b[0;32mNone\u001b[0m\u001b[0;34m)\u001b[0m\u001b[0;34m\u001b[0m\u001b[0;34m\u001b[0m\u001b[0m\n",
      "\u001b[0;31mKeyboardInterrupt\u001b[0m: "
     ]
    },
    {
     "name": "stderr",
     "output_type": "stream",
     "text": [
      "\n",
      "\n",
      "\n",
      "219560it [00:24, 37332.03it/s]\u001b[A\u001b[A\u001b[A"
     ]
    }
   ],
   "source": [
    "ES(f_max)"
   ]
  },
  {
   "cell_type": "code",
   "execution_count": null,
   "metadata": {},
   "outputs": [],
   "source": []
  }
 ],
 "metadata": {
  "kernelspec": {
   "display_name": "Python 3",
   "language": "python",
   "name": "python3"
  },
  "language_info": {
   "codemirror_mode": {
    "name": "ipython",
    "version": 3
   },
   "file_extension": ".py",
   "mimetype": "text/x-python",
   "name": "python",
   "nbconvert_exporter": "python",
   "pygments_lexer": "ipython3",
   "version": "3.7.1"
  }
 },
 "nbformat": 4,
 "nbformat_minor": 4
}
